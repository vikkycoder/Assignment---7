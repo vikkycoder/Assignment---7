{
 "cells": [
  {
   "cell_type": "markdown",
   "id": "b18c114a-2270-419d-90a5-c49f0056d986",
   "metadata": {},
   "source": [
    "### Q1. What is Abstraction in OOps? Explain with an example."
   ]
  },
  {
   "cell_type": "markdown",
   "id": "ac6c5cd0-64c6-450d-bcf3-8cda98e35b51",
   "metadata": {},
   "source": [
    "## Ans.\n",
    "An abstraction is a blueprint and structure of an any programing code. It's use to provide blueprint of code to another who use this structure to make code simple and easy."
   ]
  },
  {
   "cell_type": "code",
   "execution_count": 2,
   "id": "353ebc6e-b536-4b0c-b263-ae66f5480d3c",
   "metadata": {},
   "outputs": [],
   "source": [
    "## Example :\n",
    "\n",
    "import abc\n",
    "\n",
    "class Animal:\n",
    "    \n",
    "    @abc.abstractmethod\n",
    "    def lion(self):\n",
    "        pass\n",
    "    \n",
    "    @abc.abstractmethod\n",
    "    def cat(self):\n",
    "        pass\n",
    "    \n",
    "    @abc.abstractmethod\n",
    "    def snake(self):\n",
    "        pass"
   ]
  },
  {
   "cell_type": "code",
   "execution_count": 3,
   "id": "7a364e3c-05d8-4638-9852-d64e7baf9f73",
   "metadata": {},
   "outputs": [],
   "source": [
    "class big_cat(Animal):\n",
    "    \n",
    "    def Lion(self):\n",
    "        return \"I can roar\""
   ]
  },
  {
   "cell_type": "code",
   "execution_count": 5,
   "id": "a7d67f97-1f17-499c-a767-fcbcd5ad048d",
   "metadata": {},
   "outputs": [],
   "source": [
    "class small_cat(Animal):\n",
    "    \n",
    "    def cat(self):\n",
    "        return \"I can Miyauu\""
   ]
  },
  {
   "cell_type": "code",
   "execution_count": 6,
   "id": "0933a90f-f69a-4c1f-8f87-2f116cd907cf",
   "metadata": {},
   "outputs": [],
   "source": [
    "class reptiles(Animal):\n",
    "    \n",
    "    def snake(self):\n",
    "        return \"Snakes are venomas and non-venomas both types\""
   ]
  },
  {
   "cell_type": "code",
   "execution_count": 7,
   "id": "27329831-4cf0-4ee6-ba9d-bafbffa4b265",
   "metadata": {},
   "outputs": [],
   "source": [
    "bc = big_cat()\n",
    "sm = small_cat()\n",
    "r = reptiles()"
   ]
  },
  {
   "cell_type": "code",
   "execution_count": 11,
   "id": "b8355a95-4cb3-4e6f-8be9-13a3fdb20691",
   "metadata": {},
   "outputs": [
    {
     "data": {
      "text/plain": [
       "'I can roar'"
      ]
     },
     "execution_count": 11,
     "metadata": {},
     "output_type": "execute_result"
    }
   ],
   "source": [
    "bc.Lion()"
   ]
  },
  {
   "cell_type": "code",
   "execution_count": 12,
   "id": "baf3e178-2c74-41ba-872f-fc9a843758a2",
   "metadata": {},
   "outputs": [
    {
     "data": {
      "text/plain": [
       "'I can Miyauu'"
      ]
     },
     "execution_count": 12,
     "metadata": {},
     "output_type": "execute_result"
    }
   ],
   "source": [
    "sm.cat()"
   ]
  },
  {
   "cell_type": "code",
   "execution_count": 13,
   "id": "710329ce-f77a-4a50-8cf6-5e63cf8ea075",
   "metadata": {},
   "outputs": [
    {
     "data": {
      "text/plain": [
       "'Snakes are venomas and non-venomas both types'"
      ]
     },
     "execution_count": 13,
     "metadata": {},
     "output_type": "execute_result"
    }
   ],
   "source": [
    "r.snake()"
   ]
  },
  {
   "cell_type": "markdown",
   "id": "f206e957-f883-4dcc-a23a-66f81a23e3a3",
   "metadata": {},
   "source": [
    "### Q2. Differentiate between Abstraction and Encapsulation. Explain with an example."
   ]
  },
  {
   "cell_type": "markdown",
   "id": "207ca107-2651-42ee-95bd-d97786eb6fba",
   "metadata": {},
   "source": [
    "## Ans.\n",
    " Differentiate between Abstraction and Encapsulation:\n",
    " \n",
    " An abstraction is a blue print and structure of code which we can provide to any one.But encapsulation is hidding the given information from the real world outsider and it helps to  bind and protect data.Abstarction solve the problem in design level.But encapsulation solve the problem in implementation level."
   ]
  },
  {
   "cell_type": "code",
   "execution_count": 14,
   "id": "90eb8897-51e6-4f84-9cf8-e50059103551",
   "metadata": {},
   "outputs": [],
   "source": [
    "## Example : Abstraction\n",
    "\n",
    "import abc\n",
    "\n",
    "class pwskills:\n",
    "    \n",
    "    @abc.abstractmethod\n",
    "    def student_details(self):\n",
    "        pass\n",
    "    \n",
    "    @abc.abstractmethod\n",
    "    def student_marks(self):\n",
    "        pass\n",
    "    \n",
    "    @abc.abstractmethod\n",
    "    def mentor_name(self):\n",
    "        pass"
   ]
  },
  {
   "cell_type": "code",
   "execution_count": 15,
   "id": "92903cff-2e42-41e1-8597-431f914c07ee",
   "metadata": {},
   "outputs": [],
   "source": [
    "class student(pwskills):\n",
    "    \n",
    "    def student_details(self):\n",
    "        return \"I am data science master student\"\n",
    "    \n",
    "    def student_marks(self):\n",
    "        return \"This is my marks\"\n",
    "    "
   ]
  },
  {
   "cell_type": "code",
   "execution_count": 36,
   "id": "d9e49928-1989-4baa-9f85-6430cfb7eb98",
   "metadata": {},
   "outputs": [],
   "source": [
    "class stedent_details(pwskills):\n",
    "    \n",
    "    def student_details(self):\n",
    "        return \"my name is mollu\"\n",
    "    \n",
    "    def student_marks(self):\n",
    "        return 89\n",
    "    \n",
    "    def mentor_name(self):\n",
    "        return [\"sudh\",\"krish\"]       "
   ]
  },
  {
   "cell_type": "code",
   "execution_count": 37,
   "id": "e6f962ac-660f-4184-a9ee-16f3e89ffa4b",
   "metadata": {},
   "outputs": [],
   "source": [
    "s = student()\n",
    "st = stedent_details()"
   ]
  },
  {
   "cell_type": "code",
   "execution_count": 25,
   "id": "925c236b-45f6-45b2-99c2-033532ff7933",
   "metadata": {},
   "outputs": [
    {
     "data": {
      "text/plain": [
       "'I am data science master student'"
      ]
     },
     "execution_count": 25,
     "metadata": {},
     "output_type": "execute_result"
    }
   ],
   "source": [
    "s.student_details()"
   ]
  },
  {
   "cell_type": "code",
   "execution_count": 26,
   "id": "92c6f449-b037-4581-8f3d-fd282180d774",
   "metadata": {},
   "outputs": [
    {
     "data": {
      "text/plain": [
       "'This is my marks'"
      ]
     },
     "execution_count": 26,
     "metadata": {},
     "output_type": "execute_result"
    }
   ],
   "source": [
    "s.student_marks()"
   ]
  },
  {
   "cell_type": "code",
   "execution_count": 38,
   "id": "9345f6eb-d2c7-4947-b302-db40609c01f8",
   "metadata": {},
   "outputs": [
    {
     "data": {
      "text/plain": [
       "['sudh', 'krish']"
      ]
     },
     "execution_count": 38,
     "metadata": {},
     "output_type": "execute_result"
    }
   ],
   "source": [
    "st.mentor_name()"
   ]
  },
  {
   "cell_type": "code",
   "execution_count": 39,
   "id": "a5bd3d9d-4fe2-45b0-9d47-9579aa1f98b3",
   "metadata": {},
   "outputs": [
    {
     "data": {
      "text/plain": [
       "89"
      ]
     },
     "execution_count": 39,
     "metadata": {},
     "output_type": "execute_result"
    }
   ],
   "source": [
    "st.student_marks()"
   ]
  },
  {
   "cell_type": "code",
   "execution_count": 40,
   "id": "f039fed2-372c-4889-b901-52beadd9e7d1",
   "metadata": {},
   "outputs": [
    {
     "data": {
      "text/plain": [
       "'my name is mollu'"
      ]
     },
     "execution_count": 40,
     "metadata": {},
     "output_type": "execute_result"
    }
   ],
   "source": [
    "st.student_details()"
   ]
  },
  {
   "cell_type": "code",
   "execution_count": 66,
   "id": "7483232c-a6ac-4f8d-8058-a2c64d770b17",
   "metadata": {},
   "outputs": [],
   "source": [
    "## Example : Encapsulation\n",
    "\n",
    "class car:\n",
    "    \n",
    "    def __init__(self,name,model,year,speed):\n",
    "        self.__name = name\n",
    "        self.__model = model\n",
    "        self.__year = year \n",
    "        self.__speed = 0\n",
    "        \n",
    "    def set_speed(self,speed):\n",
    "        self.__speed = speed if speed <= 180 else 0\n",
    "        \n",
    "    def get_speed(self):\n",
    "        return self.__speed"
   ]
  },
  {
   "cell_type": "code",
   "execution_count": 67,
   "id": "9d9b246e-301f-4cc6-ac34-14ce4ace2614",
   "metadata": {},
   "outputs": [],
   "source": [
    "c = car(\"tata\",\"innova\",2019,180)"
   ]
  },
  {
   "cell_type": "code",
   "execution_count": 70,
   "id": "d0ff562a-73f2-4c7b-8e23-e2b580e6f193",
   "metadata": {},
   "outputs": [],
   "source": [
    "c.set_speed(80)"
   ]
  },
  {
   "cell_type": "code",
   "execution_count": 71,
   "id": "9788a51d-5a0d-4ca6-98cc-a2bd3d18f826",
   "metadata": {},
   "outputs": [
    {
     "data": {
      "text/plain": [
       "80"
      ]
     },
     "execution_count": 71,
     "metadata": {},
     "output_type": "execute_result"
    }
   ],
   "source": [
    "c.get_speed()"
   ]
  },
  {
   "cell_type": "code",
   "execution_count": 72,
   "id": "ef224e92-8fde-41cf-8ceb-f56123c5786d",
   "metadata": {},
   "outputs": [],
   "source": [
    "c.set_speed(200)"
   ]
  },
  {
   "cell_type": "code",
   "execution_count": 73,
   "id": "0a0f767d-7a40-4ee6-ad52-e4d0ad5b34c0",
   "metadata": {},
   "outputs": [
    {
     "data": {
      "text/plain": [
       "0"
      ]
     },
     "execution_count": 73,
     "metadata": {},
     "output_type": "execute_result"
    }
   ],
   "source": [
    "c.get_speed()"
   ]
  },
  {
   "cell_type": "markdown",
   "id": "4adf6198-71b4-4520-bde9-9a77a76f1be1",
   "metadata": {},
   "source": [
    "### Q3. What is abc module in python? Why is it used?¶"
   ]
  },
  {
   "cell_type": "markdown",
   "id": "d632fc48-69dc-4d77-95e7-94537e6eca20",
   "metadata": {},
   "source": [
    "## Ans.\n",
    "The abc is module of library in python which provides the infrastructure for defining custom abstract base classes.\n",
    "It is used to decorate in custome defining method(@abc.abstractmethod)."
   ]
  },
  {
   "cell_type": "markdown",
   "id": "74b60311-52f0-4040-a2ae-16685a036212",
   "metadata": {},
   "source": [
    "### Q4. How can we achieve data abstraction?"
   ]
  },
  {
   "cell_type": "markdown",
   "id": "38932f75-c402-47fe-b4a6-c50a8b21fd10",
   "metadata": {},
   "source": [
    "## Ans.\n",
    "In Python, abstraction can be achieved by having or using abstract classes and methods in our programs.An abstract method is a method that is declared, but does not contain implementation."
   ]
  },
  {
   "cell_type": "markdown",
   "id": "b5fd9e0d-050a-49dc-a3d8-247c4200d1c1",
   "metadata": {},
   "source": [
    "### Q5. Can we create an instance of an abstract class? Explain your answer."
   ]
  },
  {
   "cell_type": "markdown",
   "id": "644879a3-7eff-43aa-810c-750411c9f956",
   "metadata": {},
   "source": [
    "## Ans.\n",
    "Abstract classes cannot be instantiated, but they can be subclassed. When an abstract class is subclassed, the subclass usually provides implementations for all of the abstract methods in its parent class. However, if it does not, then the subclass must also be declared abstract."
   ]
  },
  {
   "cell_type": "code",
   "execution_count": null,
   "id": "91b1b73b-0896-43e2-a579-db5152a1b935",
   "metadata": {},
   "outputs": [],
   "source": []
  }
 ],
 "metadata": {
  "kernelspec": {
   "display_name": "Python 3 (ipykernel)",
   "language": "python",
   "name": "python3"
  },
  "language_info": {
   "codemirror_mode": {
    "name": "ipython",
    "version": 3
   },
   "file_extension": ".py",
   "mimetype": "text/x-python",
   "name": "python",
   "nbconvert_exporter": "python",
   "pygments_lexer": "ipython3",
   "version": "3.10.8"
  }
 },
 "nbformat": 4,
 "nbformat_minor": 5
}
